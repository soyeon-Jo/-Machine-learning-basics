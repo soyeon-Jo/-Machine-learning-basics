{
 "cells": [
  {
   "cell_type": "markdown",
   "id": "46b02640",
   "metadata": {},
   "source": [
    "# Linear_Regression \n",
    "#### 데이터 청년 캠퍼스_서울여자대학교 과정\n",
    "python의 scikit-learn 패키지를 이용해 다중 회귀분석을 직접 실행해보려 한다.\n",
    "\n",
    "- Scikit-learn에서는 데이터 분석 연습을 위한 몇 가지의 toy dataset을 제공하고 있다. 그 중 이번 시간에 사용할 데이터셋은 diabetes dataset이다.\n",
    "\n",
    "- Diabetes dataset은 당뇨병 환자들의 1년간 당뇨병 진행 변화에 대한 데이터이다. 독립 변수는 나이와 성별 등 환자의 정보이며, 예측해야 하는 종속 변수는 당뇨병의 진행 정도이다. \n",
    "\n",
    "*결측치가 없고 데이터 정규화도 되어 있어 제공된 그대로 분석에 사용 한다.*\n",
    "\n",
    "**sklearn의 회귀분석 순서**\n",
    "1. 원하는 클래스 import\n",
    "2. 객체 생성\n",
    "3. fit() 적용 : 모형 생성, 즉 데이터를 가장 잘 설명하는 선형식 - 쉽게 말해서 <u>직선을 찾는다</u>. **fit()이 수행되면 기울기와 절편이 결정**된다.\n",
    "4. 모형 기본정보 확인 : fit()에서 결정된 기울기, 절편 등을 확인한다.\n",
    "5. score()로 성능 검사 : R2(R square)라고 해서 모형의 설명력을 나타내는 수치를 계산한다.\n",
    "6. predict()로 예측 : 새로운 독립변수를 이용하여 종속변수를 예측한다."
   ]
  },
  {
   "cell_type": "code",
   "execution_count": 1,
   "id": "f467a8ad",
   "metadata": {},
   "outputs": [
    {
     "name": "stderr",
     "output_type": "stream",
     "text": [
      "C:\\Users\\82104\\anaconda3\\lib\\site-packages\\numpy\\_distributor_init.py:30: UserWarning: loaded more than 1 DLL from .libs:\n",
      "C:\\Users\\82104\\anaconda3\\lib\\site-packages\\numpy\\.libs\\libopenblas.PYQHXLVVQ7VESDPUVUADXEVJOBGHJPAY.gfortran-win_amd64.dll\n",
      "C:\\Users\\82104\\anaconda3\\lib\\site-packages\\numpy\\.libs\\libopenblas.WCDJNK7YVMPZQ2ME2ZZHJJRJ3JIKNDB7.gfortran-win_amd64.dll\n",
      "  warnings.warn(\"loaded more than 1 DLL from .libs:\"\n"
     ]
    },
    {
     "name": "stdout",
     "output_type": "stream",
     "text": [
      "data : [[ 0.03807591  0.05068012  0.06169621 ... -0.00259226  0.01990842\n",
      "  -0.01764613]\n",
      " [-0.00188202 -0.04464164 -0.05147406 ... -0.03949338 -0.06832974\n",
      "  -0.09220405]\n",
      " [ 0.08529891  0.05068012  0.04445121 ... -0.00259226  0.00286377\n",
      "  -0.02593034]\n",
      " ...\n",
      " [ 0.04170844  0.05068012 -0.01590626 ... -0.01107952 -0.04687948\n",
      "   0.01549073]\n",
      " [-0.04547248 -0.04464164  0.03906215 ...  0.02655962  0.04452837\n",
      "  -0.02593034]\n",
      " [-0.04547248 -0.04464164 -0.0730303  ... -0.03949338 -0.00421986\n",
      "   0.00306441]]\n",
      "target : [151.  75. 141. 206. 135.  97. 138.  63. 110. 310. 101.  69. 179. 185.\n",
      " 118. 171. 166. 144.  97. 168.  68.  49.  68. 245. 184. 202. 137.  85.\n",
      " 131. 283. 129.  59. 341.  87.  65. 102. 265. 276. 252.  90. 100.  55.\n",
      "  61.  92. 259.  53. 190. 142.  75. 142. 155. 225.  59. 104. 182. 128.\n",
      "  52.  37. 170. 170.  61. 144.  52. 128.  71. 163. 150.  97. 160. 178.\n",
      "  48. 270. 202. 111.  85.  42. 170. 200. 252. 113. 143.  51.  52. 210.\n",
      "  65. 141.  55. 134.  42. 111.  98. 164.  48.  96.  90. 162. 150. 279.\n",
      "  92.  83. 128. 102. 302. 198.  95.  53. 134. 144. 232.  81. 104.  59.\n",
      " 246. 297. 258. 229. 275. 281. 179. 200. 200. 173. 180.  84. 121. 161.\n",
      "  99. 109. 115. 268. 274. 158. 107.  83. 103. 272.  85. 280. 336. 281.\n",
      " 118. 317. 235.  60. 174. 259. 178. 128.  96. 126. 288.  88. 292.  71.\n",
      " 197. 186.  25.  84.  96. 195.  53. 217. 172. 131. 214.  59.  70. 220.\n",
      " 268. 152.  47.  74. 295. 101. 151. 127. 237. 225.  81. 151. 107.  64.\n",
      " 138. 185. 265. 101. 137. 143. 141.  79. 292. 178.  91. 116.  86. 122.\n",
      "  72. 129. 142.  90. 158.  39. 196. 222. 277.  99. 196. 202. 155.  77.\n",
      " 191.  70.  73.  49.  65. 263. 248. 296. 214. 185.  78.  93. 252. 150.\n",
      "  77. 208.  77. 108. 160.  53. 220. 154. 259.  90. 246. 124.  67.  72.\n",
      " 257. 262. 275. 177.  71.  47. 187. 125.  78.  51. 258. 215. 303. 243.\n",
      "  91. 150. 310. 153. 346.  63.  89.  50.  39. 103. 308. 116. 145.  74.\n",
      "  45. 115. 264.  87. 202. 127. 182. 241.  66.  94. 283.  64. 102. 200.\n",
      " 265.  94. 230. 181. 156. 233.  60. 219.  80.  68. 332. 248.  84. 200.\n",
      "  55.  85.  89.  31. 129.  83. 275.  65. 198. 236. 253. 124.  44. 172.\n",
      " 114. 142. 109. 180. 144. 163. 147.  97. 220. 190. 109. 191. 122. 230.\n",
      " 242. 248. 249. 192. 131. 237.  78. 135. 244. 199. 270. 164.  72.  96.\n",
      " 306.  91. 214.  95. 216. 263. 178. 113. 200. 139. 139.  88. 148.  88.\n",
      " 243.  71.  77. 109. 272.  60.  54. 221.  90. 311. 281. 182. 321.  58.\n",
      " 262. 206. 233. 242. 123. 167.  63. 197.  71. 168. 140. 217. 121. 235.\n",
      " 245.  40.  52. 104. 132.  88.  69. 219.  72. 201. 110.  51. 277.  63.\n",
      " 118.  69. 273. 258.  43. 198. 242. 232. 175.  93. 168. 275. 293. 281.\n",
      "  72. 140. 189. 181. 209. 136. 261. 113. 131. 174. 257.  55.  84.  42.\n",
      " 146. 212. 233.  91. 111. 152. 120.  67. 310.  94. 183.  66. 173.  72.\n",
      "  49.  64.  48. 178. 104. 132. 220.  57.]\n",
      "frame : None\n",
      "DESCR : .. _diabetes_dataset:\n",
      "\n",
      "Diabetes dataset\n",
      "----------------\n",
      "\n",
      "Ten baseline variables, age, sex, body mass index, average blood\n",
      "pressure, and six blood serum measurements were obtained for each of n =\n",
      "442 diabetes patients, as well as the response of interest, a\n",
      "quantitative measure of disease progression one year after baseline.\n",
      "\n",
      "**Data Set Characteristics:**\n",
      "\n",
      "  :Number of Instances: 442\n",
      "\n",
      "  :Number of Attributes: First 10 columns are numeric predictive values\n",
      "\n",
      "  :Target: Column 11 is a quantitative measure of disease progression one year after baseline\n",
      "\n",
      "  :Attribute Information:\n",
      "      - age     age in years\n",
      "      - sex\n",
      "      - bmi     body mass index\n",
      "      - bp      average blood pressure\n",
      "      - s1      tc, T-Cells (a type of white blood cells)\n",
      "      - s2      ldl, low-density lipoproteins\n",
      "      - s3      hdl, high-density lipoproteins\n",
      "      - s4      tch, thyroid stimulating hormone\n",
      "      - s5      ltg, lamotrigine\n",
      "      - s6      glu, blood sugar level\n",
      "\n",
      "Note: Each of these 10 feature variables have been mean centered and scaled by the standard deviation times `n_samples` (i.e. the sum of squares of each column totals 1).\n",
      "\n",
      "Source URL:\n",
      "https://www4.stat.ncsu.edu/~boos/var.select/diabetes.html\n",
      "\n",
      "For more information see:\n",
      "Bradley Efron, Trevor Hastie, Iain Johnstone and Robert Tibshirani (2004) \"Least Angle Regression,\" Annals of Statistics (with discussion), 407-499.\n",
      "(https://web.stanford.edu/~hastie/Papers/LARS/LeastAngle_2002.pdf)\n",
      "feature_names : ['age', 'sex', 'bmi', 'bp', 's1', 's2', 's3', 's4', 's5', 's6']\n",
      "data_filename : C:\\Users\\82104\\anaconda3\\lib\\site-packages\\sklearn\\datasets\\data\\diabetes_data.csv.gz\n",
      "target_filename : C:\\Users\\82104\\anaconda3\\lib\\site-packages\\sklearn\\datasets\\data\\diabetes_target.csv.gz\n"
     ]
    }
   ],
   "source": [
    "# 패키지 삽입\n",
    "from sklearn import datasets\n",
    "\n",
    "# data 불러오기\n",
    "data = datasets.load_diabetes()\n",
    "\n",
    "# data 살펴보기\n",
    "for k,v in data.items():\n",
    "    print(k,':',v)"
   ]
  },
  {
   "cell_type": "markdown",
   "id": "62cf950a",
   "metadata": {},
   "source": [
    "- x: 독립 변수\n",
    "- y: 종속 변수 "
   ]
  },
  {
   "cell_type": "code",
   "execution_count": 2,
   "id": "0cb6d8c0",
   "metadata": {},
   "outputs": [
    {
     "name": "stdout",
     "output_type": "stream",
     "text": [
      "(442, 10) (442,)\n",
      "x: [[ 0.03807591  0.05068012  0.06169621  0.02187235 -0.0442235  -0.03482076\n",
      "  -0.04340085 -0.00259226  0.01990842 -0.01764613]\n",
      " [-0.00188202 -0.04464164 -0.05147406 -0.02632783 -0.00844872 -0.01916334\n",
      "   0.07441156 -0.03949338 -0.06832974 -0.09220405]\n",
      " [ 0.08529891  0.05068012  0.04445121 -0.00567061 -0.04559945 -0.03419447\n",
      "  -0.03235593 -0.00259226  0.00286377 -0.02593034]\n",
      " [-0.08906294 -0.04464164 -0.01159501 -0.03665645  0.01219057  0.02499059\n",
      "  -0.03603757  0.03430886  0.02269202 -0.00936191]\n",
      " [ 0.00538306 -0.04464164 -0.03638469  0.02187235  0.00393485  0.01559614\n",
      "   0.00814208 -0.00259226 -0.03199144 -0.04664087]] \n",
      " y: [151.  75. 141. 206. 135.]\n"
     ]
    }
   ],
   "source": [
    "# 독립변수, 종속변수 나누기 및 확인\n",
    "x = data['data']\n",
    "y = data['target']\n",
    "\n",
    "print(x.shape,y.shape)\n",
    "print('x:',x[:5],'\\n y:', y[:5])"
   ]
  },
  {
   "cell_type": "markdown",
   "id": "5c08a48a",
   "metadata": {},
   "source": [
    "### 데이터 분할하기\n",
    "적절한 모델을 학습시키기 위해서는 주어진 데이터를 training / validation / test 로 나누는 과정이 필수적\n",
    "\n",
    "- 아래는 6:2:2로 나눴지만\n",
    "이외에도 7:1.5:1.5로 나누기도 한다.\n",
    "\n",
    "**validation set**\n",
    "train으로 학습한 데이터 중에 최적의 방법을 찾는 것.<br>\n",
    "그러니 validation set은 학습된 데이터 중 찾는 것이기 때문에 test로 해보는것도 중요함"
   ]
  },
  {
   "cell_type": "code",
   "execution_count": 3,
   "id": "ae370e30",
   "metadata": {},
   "outputs": [],
   "source": [
    "#sklearn이 제공하는 train_test_split 사용\n",
    "from sklearn.model_selection import train_test_split"
   ]
  },
  {
   "cell_type": "code",
   "execution_count": 4,
   "id": "4f647a32",
   "metadata": {},
   "outputs": [
    {
     "name": "stdout",
     "output_type": "stream",
     "text": [
      "(264, 10) (89, 10) (89, 10)\n"
     ]
    }
   ],
   "source": [
    "#데이터 나누기 (6:2:2 비율로)\n",
    "x_train, x_test, y_train, y_test = train_test_split(x,y,test_size=0.2, random_state=1)\n",
    "x_train, x_val, y_train, y_val = train_test_split(x_train,y_train, test_size =0.25, random_state =1)\n",
    "\n",
    "print(x_train.shape, x_val.shape, x_test.shape)"
   ]
  },
  {
   "cell_type": "markdown",
   "id": "1632fe1a",
   "metadata": {},
   "source": [
    "### 모델 학습하기\n",
    "Training data를 이용해 회귀분석 모델을 학습하기. "
   ]
  },
  {
   "cell_type": "code",
   "execution_count": 5,
   "id": "4ed4df17",
   "metadata": {},
   "outputs": [],
   "source": [
    "# 필요한 패키지 import\n",
    "import numpy as np\n",
    "from sklearn.linear_model import LinearRegression"
   ]
  },
  {
   "cell_type": "markdown",
   "id": "1c8ad2af",
   "metadata": {},
   "source": [
    "Scikit-learn에서 제공하는 LinearRegression 모델을 선언할 때\n",
    "<br>필요한 주요 parameter는 다음과 같다.\n",
    "\n",
    "- **fit_intercept**: 상수항을 사용할 것인지에 대한 여부. True 일 때 상수항 사용. **default=True**\n",
    "- **normalize**: 정규화를 수행할 것인지에 대한 여부. True 일 때 정규화 수행. **default=False**\n",
    "<br>\n",
    "<br>\n",
    "\n",
    "회귀 분석 모델을 학습하기 위해선\n",
    "1. 모델 객체 생성\n",
    "2. 데이터를 이용한 학습"
   ]
  },
  {
   "cell_type": "code",
   "execution_count": 6,
   "id": "6994fe01",
   "metadata": {},
   "outputs": [
    {
     "data": {
      "text/plain": [
       "LinearRegression()"
      ]
     },
     "execution_count": 6,
     "metadata": {},
     "output_type": "execute_result"
    }
   ],
   "source": [
    "# 모델 객체 생성\n",
    "mlr = LinearRegression() #fit_tintercept, normalize 기본값 사용\n",
    "\n",
    "# 회귀분석 모델 학습\n",
    "mlr.fit(x_train, y_train)"
   ]
  },
  {
   "cell_type": "markdown",
   "id": "8210b7f5",
   "metadata": {},
   "source": [
    "#### 추정한 모델의 회귀 계수 중 가장 영향력 있는 변수는?\n",
    "\n",
    "- coefficient: indepenent variables의 계수\n",
    "- intercept: 상수 (bias)"
   ]
  },
  {
   "cell_type": "code",
   "execution_count": 7,
   "id": "e744db5c",
   "metadata": {},
   "outputs": [
    {
     "name": "stdout",
     "output_type": "stream",
     "text": [
      "147.87388534119617\n",
      "[ -39.57865915 -236.60328634  489.97259328  352.8678163  -873.03276134\n",
      "  430.03354622  208.4341436   306.03221956  746.84762599  116.37588728]\n"
     ]
    }
   ],
   "source": [
    "# 회귀 계수 확인\n",
    "print(mlr.intercept_)\n",
    "print(mlr.coef_)"
   ]
  },
  {
   "cell_type": "markdown",
   "id": "874ec2c6",
   "metadata": {},
   "source": [
    "#### 추정한 모델의 설명력 확인\n",
    "**- 결정계수 R-square**(설명력):<br>\n",
    "독립변수가 종속변수를 얼마만큼 설명해 주는지를 가리키는 지표.<br>\n",
    "\n",
    "R-square을 계산하려면 우선 training data에 대한 예측값을 알아야 한다."
   ]
  },
  {
   "cell_type": "code",
   "execution_count": 8,
   "id": "bd87cfac",
   "metadata": {},
   "outputs": [],
   "source": [
    "#training data 예측값\n",
    "pred_train = mlr.predict(x_train)"
   ]
  },
  {
   "cell_type": "markdown",
   "id": "d2b09919",
   "metadata": {},
   "source": [
    "scikit-learn에서 제공하는 r2_score 함수를 이용해 R-square 값을 계산"
   ]
  },
  {
   "cell_type": "code",
   "execution_count": 9,
   "id": "12848f29",
   "metadata": {},
   "outputs": [
    {
     "name": "stdout",
     "output_type": "stream",
     "text": [
      "0.5353262888595558\n"
     ]
    }
   ],
   "source": [
    "#training data에 대한 R-square 값 계산\n",
    "from sklearn.metrics import r2_score\n",
    "print(r2_score(y_train,pred_train))"
   ]
  },
  {
   "cell_type": "markdown",
   "id": "e4fafee6",
   "metadata": {},
   "source": [
    "Validation data, test data의 R-square값도 같은 방법으로 계산해 보기"
   ]
  },
  {
   "cell_type": "code",
   "execution_count": 10,
   "id": "0c76cf1f",
   "metadata": {},
   "outputs": [
    {
     "name": "stdout",
     "output_type": "stream",
     "text": [
      "0.493408590131314\n"
     ]
    }
   ],
   "source": [
    "# validation data에 대한 R-square\n",
    "pred_val = mlr.predict(x_val)\n",
    "print(r2_score(y_val,pred_val))"
   ]
  },
  {
   "cell_type": "code",
   "execution_count": 11,
   "id": "b3300394",
   "metadata": {},
   "outputs": [
    {
     "name": "stdout",
     "output_type": "stream",
     "text": [
      "0.4432722010710275\n"
     ]
    }
   ],
   "source": [
    "# test data에 대한 R-square\n",
    "pred_test = mlr.predict(x_test)\n",
    "print(r2_score(y_test, pred_test))"
   ]
  },
  {
   "cell_type": "markdown",
   "id": "c919b75b",
   "metadata": {},
   "source": [
    "## 모델 선택하기\n",
    "\n",
    "### 1. 전진 선택법\n",
    "상수항만 있는 모형에서 시작해, 설명력을 가장 크게 높일 수 있는 변수부터 하나씩 추가해 나가는 방법.<br>\n",
    "- 더 이상 설명력의 이득이 없을 때까지 변수를 추가.\n",
    "\n",
    "*원래는 F 검정을 기준으로 사용해야 하지만, 간단한 구현을 위해 R-square 로 대체한다.*\n",
    "\n",
    "공집합에서 시작해, 매 반복마다 남아 있는 변수들 중 \"추가했을 때 R-square 가 가장 큰 변수\"를 기존의 변수집합에 더해 나가는 방식으로 구현."
   ]
  },
  {
   "cell_type": "code",
   "execution_count": 12,
   "id": "6acce10d",
   "metadata": {},
   "outputs": [
    {
     "name": "stdout",
     "output_type": "stream",
     "text": [
      "============ round 1 ============\n",
      "best variables updated:  [2]\n",
      "current best r2:  0.4015039066196986\n",
      "============ round 2 ============\n",
      "best variables updated:  [2, 8]\n",
      "current best r2:  0.48019951742375144\n",
      "============ round 3 ============\n",
      "best variables updated:  [2, 8, 6]\n",
      "current best r2:  0.4911801371957262\n",
      "============ round 4 ============\n",
      "best variables updated:  [2, 8, 6, 1]\n",
      "current best r2:  0.514245907690211\n",
      "============ round 5 ============\n",
      "best variables updated:  [2, 8, 6, 1, 3]\n",
      "current best r2:  0.5333863843789604\n",
      "============ round 6 ============\n",
      "no improvement\n",
      "\n",
      "---------------------------------------------------\n",
      "\n",
      "final variables:  [1, 2, 3, 6, 8]\n",
      "final r2:  0.5333863843789604\n"
     ]
    }
   ],
   "source": [
    "# 선택된 변수들, R-square 값 및 모델 저장\n",
    "best_variables = []\n",
    "best_r2 = 0.\n",
    "best_model = None\n",
    "\n",
    "# 남아 있는 변수들\n",
    "remain_variables = list(range(10))\n",
    "\n",
    "for round in range(10):\n",
    "    print(f\"============ round {round+1} ============\")\n",
    "    r2_of_this_round = []\n",
    "    models_of_this_round = []\n",
    "\n",
    "    for var in remain_variables:\n",
    "        # 사용될 변수들과 모델\n",
    "        use_vars = best_variables + [var]\n",
    "        model = LinearRegression()\n",
    "\n",
    "        # 지정된 변수만 사용하게끔 데이터 추출\n",
    "        x_train_small = x_train[:, use_vars]\n",
    "        x_val_small = x_val[:, use_vars]\n",
    "\n",
    "        # 지정된 변수로 모델 학습\n",
    "        model.fit(x_train_small, y_train)\n",
    "        models_of_this_round.append(model)\n",
    "\n",
    "        # validation R-square(설명력) 계산\n",
    "        r2 = r2_score(y_val, model.predict(x_val_small))\n",
    "        r2_of_this_round.append(r2)\n",
    "  \n",
    "    # R-square 가 높은 모델 선택\n",
    "    best_r2_of_this_round = np.max(r2_of_this_round)\n",
    "\n",
    "    # 이전 round와 비교\n",
    "    if best_r2_of_this_round > best_r2:\n",
    "        best_var_of_this_round = np.argmax(r2_of_this_round)\n",
    "\n",
    "        # 변수 추가, R-square 값 및 모델 업데이트\n",
    "        best_variables.append(remain_variables[best_var_of_this_round])\n",
    "        best_r2 = best_r2_of_this_round\n",
    "        best_model = models_of_this_round[best_var_of_this_round]\n",
    "\n",
    "        # 남은 변수들 중 선택된 변수 제거\n",
    "        remain_variables.pop(best_var_of_this_round)\n",
    "\n",
    "        print('best variables updated: ', best_variables)\n",
    "        print('current best r2: ', best_r2)\n",
    "\n",
    "  # 더 이상 개선되지 않으면 멈춤  \n",
    "    else:\n",
    "        print(\"no improvement\")\n",
    "        break\n",
    "\n",
    "\n",
    "\n",
    "print('\\n---------------------------------------------------\\n')\n",
    "print('final variables: ', sorted(best_variables))\n",
    "print('final r2: ', best_r2)\n",
    "  "
   ]
  },
  {
   "cell_type": "code",
   "execution_count": 13,
   "id": "cf32fb46",
   "metadata": {},
   "outputs": [
    {
     "name": "stdout",
     "output_type": "stream",
     "text": [
      "test r2: 0.42090782097560653\n"
     ]
    }
   ],
   "source": [
    "#test set 확인\n",
    "print(\"test r2:\",r2_score(y_test, best_model.predict(x_test[:, best_variables])))"
   ]
  },
  {
   "cell_type": "markdown",
   "id": "f90cc00d",
   "metadata": {},
   "source": [
    "결정계수 R-square 를 알고 있을 때, 수정 결정계수 adjusted R-square 를 다음과 같이 계산.\n",
    "\n",
    "####  adjusted R-square을 하는 이유\n",
    "먼저,\n",
    "- R-square(=결정계수=설명력)\n",
    "회귀 모델에서 독립변수(x)가 종속변수(y)를 얼만큼 설명해 주는지 가리키는 지표.<br>\n",
    "\n",
    "**높을수록** 독립변수가 종속변수를 많이 설명한다는 것.\n",
    "<br>\n",
    "-> 실제, 종속변수를 잘 설명하지 못하는 변수가 추가되어도 증가하기 때문에 결정계수만 가지고 판단하는 것은 문제가 있다.\n",
    "\n",
    "#### 따라서 Adjusted R-Squared를 사용한다.."
   ]
  },
  {
   "cell_type": "code",
   "execution_count": 14,
   "id": "b50f3c85",
   "metadata": {},
   "outputs": [
    {
     "name": "stdout",
     "output_type": "stream",
     "text": [
      "0.3718968422339797\n"
     ]
    }
   ],
   "source": [
    "# test data에 대한 adjust R-square 계산\n",
    "pred_test = mlr.predict(x_test)\n",
    "test_r2 = r2_score(y_test, pred_test)\n",
    "test_adj_r2 = 1-(1-test_r2)*(y_test.shape[0]-1)/(y_test.shape[0]-x_test.shape[1]-1)\n",
    "print(test_adj_r2)"
   ]
  },
  {
   "cell_type": "markdown",
   "id": "a16f1664",
   "metadata": {},
   "source": [
    "Adjusted R-square을 이용한 \n",
    "## 2. 후진 제거법 "
   ]
  },
  {
   "cell_type": "code",
   "execution_count": 15,
   "id": "7d6f3c48",
   "metadata": {},
   "outputs": [
    {
     "name": "stdout",
     "output_type": "stream",
     "text": [
      "============ round 1 ============\n",
      "best variables updated:  [0, 1, 2, 3, 4, 5, 6, 8, 9]\n",
      "current best r2:  0.44968750331058116\n",
      "============ round 2 ============\n",
      "best variables updated:  [0, 1, 2, 3, 4, 5, 6, 8]\n",
      "current best r2:  0.468224109131373\n",
      "============ round 3 ============\n",
      "best variables updated:  [0, 1, 2, 3, 5, 6, 8]\n",
      "current best r2:  0.47847527149248936\n",
      "============ round 4 ============\n",
      "best variables updated:  [0, 1, 2, 3, 6, 8]\n",
      "current best r2:  0.49917040260293344\n",
      "============ round 5 ============\n",
      "best variables updated:  [1, 2, 3, 6, 8]\n",
      "current best r2:  0.5052771304258852\n",
      "============ round 6 ============\n",
      "no improvement\n",
      "---------------------------------------------------\n",
      "final variables:  [1, 2, 3, 6, 8]\n",
      "final adj_r2:  0.5052771304258852\n",
      "---------------------------------------------------\n",
      "test adjust R-square:  0.3860227499500407\n"
     ]
    }
   ],
   "source": [
    "# 선택된 변수들, R-square 값 및 모델 저장\n",
    "best_variables = list(range(10))\n",
    "best_adj_r2 = 0.\n",
    "best_model = None\n",
    "\n",
    "\n",
    "# 선택된 변수들 중 Adjusted R-square의 손실이 가장 적은 변수를 골라 없애기\n",
    "for round in range(10):\n",
    "    print(f\"============ round {round+1} ============\")\n",
    "    adj_r2_of_this_round = []\n",
    "    models_of_this_round = []\n",
    "\n",
    "    for var in best_variables:\n",
    "        # 사용될 변수들과 모델\n",
    "        use_vars = best_variables.copy()\n",
    "        use_vars.remove(var)\n",
    "        model = LinearRegression()\n",
    "\n",
    "        # 지정된 변수만 사용하게끔 데이터 추출\n",
    "        x_train_small = x_train[:, use_vars]\n",
    "        x_val_small = x_val[:, use_vars]\n",
    "\n",
    "        # 지정된 변수로 모델 학습\n",
    "        model.fit(x_train_small, y_train)\n",
    "        models_of_this_round.append(model)\n",
    "\n",
    "        # validation adjusted R-square 계산\n",
    "        r2 = r2_score(y_val, model.predict(x_val_small))\n",
    "        adj_r2 = 1 - (1-r2)*(y_val.shape[0]-1)/(y_val.shape[0]-len(use_vars)-1)\n",
    "        adj_r2_of_this_round.append(adj_r2)\n",
    "\n",
    "  # R-square 가 높은 모델 선택\n",
    "    best_adj_r2_of_this_round = np.max(adj_r2_of_this_round)\n",
    "\n",
    "  # 이전 round와 비교\n",
    "    if best_adj_r2_of_this_round > best_adj_r2:\n",
    "        max_var = np.argmax(adj_r2_of_this_round)\n",
    "        best_variables.pop(max_var)\n",
    "        best_adj_r2 = best_adj_r2_of_this_round\n",
    "        best_model = models_of_this_round[max_var]\n",
    "\n",
    "        print('best variables updated: ', best_variables)\n",
    "        print('current best r2: ', best_adj_r2)\n",
    "\n",
    "  # 더 이상 개선되지 않으면 멈춤\n",
    "    else:\n",
    "        print(\"no improvement\")\n",
    "        break\n",
    "\n",
    "print('---------------------------------------------------')\n",
    "print('final variables: ', sorted(best_variables))\n",
    "print('final adj_r2: ', best_adj_r2)\n",
    "\n",
    "print('---------------------------------------------------')\n",
    "test_r2=r2_score(y_test, best_model.predict(x_test[:, best_variables]))\n",
    "test_adj_r2 =1-(1-test_r2)*(y_test.shape[0]-1)/(y_test.shape[0]-len(best_variables)-1) \n",
    "print('test adjust R-square: ', test_adj_r2)\n"
   ]
  },
  {
   "cell_type": "markdown",
   "id": "7ef4e4d3",
   "metadata": {},
   "source": [
    "## 회귀모형의 검정\n",
    "Statsmodels 패키지에서는 OLS 라는 클래스를 이용하여 회귀분석을 진행한다. 아래와 같은 방식으로 학습을 진행하고 각종 테스트 결과를 확인.\n",
    "<br>\n",
    "\n",
    "*Scikit-learn에서와 다른 점 중 하나는 객체를 생성할 때 데이터를 미리 입력해주어야 한다는 것이고, 또 하나는 상수항을 따로 추가해 주어야 한다*"
   ]
  },
  {
   "cell_type": "code",
   "execution_count": 16,
   "id": "64fc4315",
   "metadata": {},
   "outputs": [],
   "source": [
    "from statsmodels.regression.linear_model import OLS\n",
    "import statsmodels.api"
   ]
  },
  {
   "cell_type": "code",
   "execution_count": 17,
   "id": "08d9d4ce",
   "metadata": {},
   "outputs": [
    {
     "name": "stdout",
     "output_type": "stream",
     "text": [
      "                            OLS Regression Results                            \n",
      "==============================================================================\n",
      "Dep. Variable:                      y   R-squared:                       0.535\n",
      "Model:                            OLS   Adj. R-squared:                  0.517\n",
      "Method:                 Least Squares   F-statistic:                     29.15\n",
      "Date:                Thu, 08 Jul 2021   Prob (F-statistic):           7.63e-37\n",
      "Time:                        15:41:33   Log-Likelihood:                -1417.7\n",
      "No. Observations:                 264   AIC:                             2857.\n",
      "Df Residuals:                     253   BIC:                             2897.\n",
      "Df Model:                          10                                         \n",
      "Covariance Type:            nonrobust                                         \n",
      "==============================================================================\n",
      "                 coef    std err          t      P>|t|      [0.025      0.975]\n",
      "------------------------------------------------------------------------------\n",
      "const        147.8739      3.284     45.033      0.000     141.407     154.341\n",
      "x1           -39.5787     78.455     -0.504      0.614    -194.086     114.929\n",
      "x2          -236.6033     77.891     -3.038      0.003    -390.001     -83.206\n",
      "x3           489.9726     83.570      5.863      0.000     325.391     654.554\n",
      "x4           352.8678     83.710      4.215      0.000     188.010     517.725\n",
      "x5          -873.0328    502.031     -1.739      0.083   -1861.724     115.659\n",
      "x6           430.0335    399.058      1.078      0.282    -355.865    1215.932\n",
      "x7           208.4341    262.438      0.794      0.428    -308.407     725.276\n",
      "x8           306.0322    202.097      1.514      0.131     -91.974     704.038\n",
      "x9           746.8476    214.720      3.478      0.001     323.982    1169.713\n",
      "x10          116.3759     83.117      1.400      0.163     -47.314     280.066\n",
      "==============================================================================\n",
      "Omnibus:                        3.288   Durbin-Watson:                   2.072\n",
      "Prob(Omnibus):                  0.193   Jarque-Bera (JB):                2.430\n",
      "Skew:                          -0.070   Prob(JB):                        0.297\n",
      "Kurtosis:                       2.551   Cond. No.                         215.\n",
      "==============================================================================\n",
      "\n",
      "Notes:\n",
      "[1] Standard Errors assume that the covariance matrix of the errors is correctly specified.\n"
     ]
    }
   ],
   "source": [
    "sm_model = OLS(y_train, statsmodels.api.add_constant(x_train))\n",
    "\n",
    "sm_model = sm_model.fit()\n",
    "print(sm_model.summary())"
   ]
  },
  {
   "cell_type": "markdown",
   "id": "2c9507d8",
   "metadata": {},
   "source": [
    "#### 다중공선성을 확인할 수 있는 VIF를 계산해 보자.\n",
    "\n",
    "- 다중공선성이 높다: 예측 값의 신뢰구간이 넓게 형성되는 현상\n",
    "- 다중공선성이 있다:\n",
    "변수들 간 상관관계가 높다.\n",
    "(회귀분석의 기존 전제가 무너진 것이기 때문에 다중공선성을 없애기 위해 노력해야 한다.)<br>\n",
    "\n",
    "그러나 다중공선성은 상관관계가 높지만 상관관계가 높다고 다중공선성이 반드시 있는 것은 아니다."
   ]
  },
  {
   "cell_type": "code",
   "execution_count": 18,
   "id": "a6e7b268",
   "metadata": {},
   "outputs": [],
   "source": [
    "from statsmodels.stats.outliers_influence import variance_inflation_factor"
   ]
  },
  {
   "cell_type": "code",
   "execution_count": 19,
   "id": "218aa7aa",
   "metadata": {},
   "outputs": [
    {
     "name": "stdout",
     "output_type": "stream",
     "text": [
      "VIF of x1: 1.26\n",
      "VIF of x2: 1.28\n",
      "VIF of x3: 1.48\n",
      "VIF of x4: 1.47\n",
      "VIF of x5: 52.46\n",
      "VIF of x6: 33.02\n",
      "VIF of x7: 14.75\n",
      "VIF of x8: 9.38\n",
      "VIF of x9: 9.72\n",
      "VIF of x10: 1.50\n"
     ]
    }
   ],
   "source": [
    "for i in range(x_train.shape[1]):\n",
    "  print(f\"VIF of x{i+1}: {variance_inflation_factor(x_train, i):.2f}\")"
   ]
  },
  {
   "cell_type": "markdown",
   "id": "3b19c557",
   "metadata": {},
   "source": [
    "다중공선성이 확인된 변수를 제외한 모델을 학습"
   ]
  },
  {
   "cell_type": "code",
   "execution_count": 20,
   "id": "cc4fe4d4",
   "metadata": {},
   "outputs": [
    {
     "name": "stdout",
     "output_type": "stream",
     "text": [
      "                            OLS Regression Results                            \n",
      "==============================================================================\n",
      "Dep. Variable:                      y   R-squared:                       0.504\n",
      "Model:                            OLS   Adj. R-squared:                  0.490\n",
      "Method:                 Least Squares   F-statistic:                     37.13\n",
      "Date:                Thu, 08 Jul 2021   Prob (F-statistic):           1.18e-35\n",
      "Time:                        15:46:41   Log-Likelihood:                -1426.4\n",
      "No. Observations:                 264   AIC:                             2869.\n",
      "Df Residuals:                     256   BIC:                             2897.\n",
      "Df Model:                           7                                         \n",
      "Covariance Type:            nonrobust                                         \n",
      "==============================================================================\n",
      "                 coef    std err          t      P>|t|      [0.025      0.975]\n",
      "------------------------------------------------------------------------------\n",
      "const        148.3556      3.371     44.008      0.000     141.717     154.994\n",
      "x1           -85.9023     79.640     -1.079      0.282    -242.735      70.930\n",
      "x2          -152.5415     77.133     -1.978      0.049    -304.438      -0.645\n",
      "x3           543.3405     83.537      6.504      0.000     378.833     707.848\n",
      "x4           311.1688     85.288      3.648      0.000     143.213     479.125\n",
      "x5           119.2819     94.077      1.268      0.206     -65.982     304.546\n",
      "x6           459.4696    101.144      4.543      0.000     260.290     658.649\n",
      "x7           130.0925     85.305      1.525      0.128     -37.896     298.081\n",
      "==============================================================================\n",
      "Omnibus:                        9.748   Durbin-Watson:                   2.036\n",
      "Prob(Omnibus):                  0.008   Jarque-Bera (JB):                4.766\n",
      "Skew:                          -0.010   Prob(JB):                       0.0923\n",
      "Kurtosis:                       2.342   Cond. No.                         36.8\n",
      "==============================================================================\n",
      "\n",
      "Notes:\n",
      "[1] Standard Errors assume that the covariance matrix of the errors is correctly specified.\n"
     ]
    }
   ],
   "source": [
    "# 다중공선성이 확인된 변수들을 제외하고 회귀분석 학습하고 결과 출력하기(statsmodels 이용)\n",
    "use_variables = [i for i in range(x_train.shape[1]) if variance_inflation_factor(x_train, i) < 10]\n",
    "small_model = OLS(y_train, statsmodels.api.add_constant(x_train[:, use_variables]))\n",
    "\n",
    "small_model = small_model.fit()\n",
    "print(small_model.summary())"
   ]
  },
  {
   "cell_type": "code",
   "execution_count": 21,
   "id": "2f2ccb11",
   "metadata": {},
   "outputs": [
    {
     "data": {
      "text/plain": [
       "[<matplotlib.lines.Line2D at 0x20719b6ddf0>]"
      ]
     },
     "execution_count": 21,
     "metadata": {},
     "output_type": "execute_result"
    },
    {
     "data": {
      "image/png": "[encoded data removed]",
      "text/plain": [
       "<Figure size 432x288 with 1 Axes>"
      ]
     },
     "metadata": {
      "needs_background": "light"
     },
     "output_type": "display_data"
    }
   ],
   "source": [
    "import matplotlib.pyplot as plt\n",
    "%matplotlib inline\n",
    "\n",
    "plt.scatter(pred_train, y_train - pred_train)\n",
    "plt.plot([pred_train.min(), pred_train.max()], [0, 0], '--', color='grey')"
   ]
  },
  {
   "cell_type": "code",
   "execution_count": null,
   "id": "419b6b69",
   "metadata": {},
   "outputs": [],
   "source": []
  }
 ],
 "metadata": {
  "kernelspec": {
   "display_name": "Python 3",
   "language": "python",
   "name": "python3"
  },
  "language_info": {
   "codemirror_mode": {
    "name": "ipython",
    "version": 3
   },
   "file_extension": ".py",
   "mimetype": "text/x-python",
   "name": "python",
   "nbconvert_exporter": "python",
   "pygments_lexer": "ipython3",
   "version": "3.8.8"
  }
 },
 "nbformat": 4,
 "nbformat_minor": 5
}
